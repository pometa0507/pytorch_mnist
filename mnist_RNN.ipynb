{
 "cells": [
  {
   "cell_type": "markdown",
   "metadata": {},
   "source": [
    "# Pytorch MNIST手書き数字の分類 - RNNネットワーク -"
   ]
  },
  {
   "cell_type": "markdown",
   "metadata": {},
   "source": [
    "- RNNで構築したネットワークの実装を行い、MNIST分類を学習し推論します。"
   ]
  },
  {
   "cell_type": "markdown",
   "metadata": {},
   "source": [
    "# 事前準備"
   ]
  },
  {
   "cell_type": "markdown",
   "metadata": {},
   "source": [
    "## モジュールインポート"
   ]
  },
  {
   "cell_type": "code",
   "execution_count": 1,
   "metadata": {},
   "outputs": [],
   "source": [
    "import torch\n",
    "import torch.nn as nn\n",
    "import torch.nn.functional as F\n",
    "import torch.optim as optim\n",
    "from torchvision import datasets, transforms\n",
    "\n",
    "import numpy as np\n",
    "import matplotlib.pyplot as plt\n",
    "from tqdm import tqdm"
   ]
  },
  {
   "cell_type": "markdown",
   "metadata": {},
   "source": [
    "## GPUとCPUの自動判別"
   ]
  },
  {
   "cell_type": "code",
   "execution_count": 2,
   "metadata": {},
   "outputs": [
    {
     "name": "stdout",
     "output_type": "stream",
     "text": [
      "使用デバイス: cpu\n"
     ]
    }
   ],
   "source": [
    "device = torch.device(\"cuda\" if torch.cuda.is_available() else \"cpu\")\n",
    "print(\"使用デバイス:\", device)"
   ]
  },
  {
   "cell_type": "markdown",
   "metadata": {},
   "source": [
    "# Datasetの準備"
   ]
  },
  {
   "cell_type": "markdown",
   "metadata": {},
   "source": [
    "## MNISTデータセット"
   ]
  },
  {
   "cell_type": "code",
   "execution_count": 3,
   "metadata": {},
   "outputs": [
    {
     "name": "stdout",
     "output_type": "stream",
     "text": [
      "train_dataset size = 40000\n",
      "val_dataset size = 20000\n"
     ]
    }
   ],
   "source": [
    "#データ前処理 transform を設定\n",
    "transform = transforms.Compose(\n",
    "    [transforms.ToTensor(),                      # Tensor変換とshape変換 [H, W, C] -> [C, H, W]\n",
    "     transforms.Normalize((0.5, ), (0.5, ))])    # 標準化 平均:0.5  標準偏差:0.5\n",
    "\n",
    "\n",
    "#訓練用(train + validation)のデータセット サイズ:(channel, height, width) = (1,28,28) 60000枚\n",
    "trainval_dataset = datasets.MNIST(root='./data', \n",
    "                                        train=True,\n",
    "                                        download=True,\n",
    "                                        transform=transform)\n",
    "\n",
    "#訓練用ータセットを train と val にshuffleして分割する\n",
    "train_dataset, val_dataset = torch.utils.data.random_split(trainval_dataset, [40000, 20000])\n",
    "\n",
    "print(\"train_dataset size = {}\".format(len(train_dataset)))\n",
    "print(\"val_dataset size = {}\".format(len(val_dataset)))\n",
    "\n",
    "#テスト(test)用のデータセット サイズ:(channel, height, width) = (1,28,28) 10000枚\n",
    "test_dataset = datasets.MNIST(root='./data', \n",
    "                                        train=False, \n",
    "                                        download=True, \n",
    "                                        transform=transform)"
   ]
  },
  {
   "cell_type": "markdown",
   "metadata": {},
   "source": [
    "# Detaloaderの作成"
   ]
  },
  {
   "cell_type": "code",
   "execution_count": 4,
   "metadata": {},
   "outputs": [],
   "source": [
    "#訓練用 Dataloder\n",
    "train_dataloader = torch.utils.data.DataLoader(train_dataset,\n",
    "                                            batch_size=64,\n",
    "                                            shuffle=True)\n",
    "#検証用 Dataloder\n",
    "val_dataloader = torch.utils.data.DataLoader(val_dataset, \n",
    "                                            batch_size=64,\n",
    "                                            shuffle=False)\n",
    "\n",
    "#テスト用 Dataloder\n",
    "test_dataloader = torch.utils.data.DataLoader(test_dataset, \n",
    "                                            batch_size=64,\n",
    "                                            shuffle=False)\n",
    "\n",
    "# 辞書型変数にまとめる\n",
    "dataloaders_dict = {\"train\": train_dataloader, \"val\": val_dataloader, \"test\": test_dataloader}"
   ]
  },
  {
   "cell_type": "markdown",
   "metadata": {},
   "source": [
    "## 動作の確認"
   ]
  },
  {
   "cell_type": "code",
   "execution_count": 5,
   "metadata": {},
   "outputs": [
    {
     "name": "stdout",
     "output_type": "stream",
     "text": [
      "imges size =  torch.Size([64, 1, 28, 28])\n",
      "labels size =  torch.Size([64])\n"
     ]
    },
    {
     "data": {
      "image/png": "[encoded data removed]",
      "text/plain": [
       "<Figure size 432x288 with 1 Axes>"
      ]
     },
     "metadata": {
      "needs_background": "light"
     },
     "output_type": "display_data"
    }
   ],
   "source": [
    "batch_iterator = iter(dataloaders_dict[\"train\"])  # イテレータに変換\n",
    "imges, labels = next(batch_iterator)  # 1番目の要素を取り出す\n",
    "print(\"imges size = \", imges.size())\n",
    "print(\"labels size = \", labels.size())\n",
    "\n",
    "#試しに1枚 plot してみる\n",
    "plt.imshow(imges[0].numpy().reshape(28,28), cmap='gray')\n",
    "plt.title(\"label = {}\".format(labels[0].numpy()))\n",
    "plt.show()"
   ]
  },
  {
   "cell_type": "markdown",
   "metadata": {},
   "source": [
    "# ネットワークモデルの作成\n",
    "- RNNのモデル"
   ]
  },
  {
   "cell_type": "code",
   "execution_count": 6,
   "metadata": {},
   "outputs": [],
   "source": [
    "class Net(nn.Module):\n",
    "\n",
    "    def __init__(self):\n",
    "        \n",
    "        super(Net, self).__init__()\n",
    "        self.seq_len = 28              # 画像の Height を時系列のSequenceとしてRNNに入力する\n",
    "        self.feature_size = 28         # 画像の Width を特徴量の次元としてRNNに入力する\n",
    "        self.hidden_layer_size = 128   # 隠れ層のサイズ\n",
    "        self.rnn_layers = 1            # RNNのレイヤー数　(RNNを何層重ねるか)\n",
    "        \n",
    "        self.simple_rnn = nn.RNN(input_size = self.feature_size,\n",
    "                                 hidden_size = self.hidden_layer_size,\n",
    "                                 num_layers = self.rnn_layers) \n",
    "\n",
    "        self.fc = nn.Linear(self.hidden_layer_size, 10)\n",
    "        \n",
    "    def init_hidden(self, batch_size): # RNNの隠れ層 hidden を初期化\n",
    "        hedden = torch.zeros(self.rnn_layers, batch_size, self.hidden_layer_size)\n",
    "        return hedden\n",
    "\n",
    "    def forward(self, x):\n",
    "        batch_size = x.shape[0]\n",
    "        \n",
    "        self.hidden = self.init_hidden(batch_size)\n",
    "        \n",
    "        x = x.view(batch_size, self.seq_len, self.feature_size)  # (Batch, Cannel, Height, Width) -> (Batch, Height, Width) = (Batch, Seqence, Feature)\n",
    "                                                                 # 画像の Height を時系列のSequenceに、Width を特徴量の次元としてRNNに入力する\n",
    "        x = x.permute(1, 0, 2)                                   # (Batch, Seqence, Feature) -> (Seqence , Batch, Feature)\n",
    "        \n",
    "        rnn_out, h_n = self.simple_rnn(x, self.hidden)           # RNNの入力データのShapeは(Seqence, Batch, Feature)\n",
    "                                                                 # (h_n) のShapeは (num_layers, batch, hidden_size)\n",
    "        x = h_n[-1,:,:]                                          # RNN_layersの最後のレイヤーを取り出す (l, B, h)-> (B, h)\n",
    "        x = self.fc(x)\n",
    "        \n",
    "        return x"
   ]
  },
  {
   "cell_type": "code",
   "execution_count": 7,
   "metadata": {},
   "outputs": [],
   "source": [
    "#モデル作成\n",
    "net = Net().to(device)   # GPUを使用する場合のために明示的に .to(device) を指定"
   ]
  },
  {
   "cell_type": "code",
   "execution_count": 8,
   "metadata": {},
   "outputs": [
    {
     "name": "stdout",
     "output_type": "stream",
     "text": [
      "Net(\n",
      "  (simple_rnn): RNN(28, 128)\n",
      "  (fc): Linear(in_features=128, out_features=10, bias=True)\n",
      ")\n"
     ]
    }
   ],
   "source": [
    "#ネットワークのレイヤー確認\n",
    "print(net)"
   ]
  },
  {
   "cell_type": "markdown",
   "metadata": {},
   "source": [
    "# 損失関数の定義"
   ]
  },
  {
   "cell_type": "code",
   "execution_count": 9,
   "metadata": {},
   "outputs": [],
   "source": [
    "# nn.CrossEntropyLoss() はソフトマックス関数＋クロスエントロピー誤差\n",
    "criterion = nn.CrossEntropyLoss()"
   ]
  },
  {
   "cell_type": "markdown",
   "metadata": {},
   "source": [
    "# 最適化手法の設定"
   ]
  },
  {
   "cell_type": "code",
   "execution_count": 10,
   "metadata": {},
   "outputs": [],
   "source": [
    "optimizer = optim.Adam(net.parameters(), lr=0.001)"
   ]
  },
  {
   "cell_type": "markdown",
   "metadata": {},
   "source": [
    "# 学習・検証の実施"
   ]
  },
  {
   "cell_type": "code",
   "execution_count": 11,
   "metadata": {},
   "outputs": [],
   "source": [
    "# モデルを学習させる関数を作成\n",
    "def train_model(net, dataloaders_dict, criterion, optimizer, device, num_epochs):\n",
    "    \n",
    "    # epochのループ\n",
    "    for epoch in range(num_epochs):\n",
    "        print('Epoch {}/{}'.format(epoch+1, num_epochs))\n",
    "        print('-------------')\n",
    "\n",
    "        # epochごとの学習と検証のループ\n",
    "        for phase in ['train', 'val']:\n",
    "            if phase == 'train':\n",
    "                net.train()  # モデルを訓練モードに\n",
    "            else:\n",
    "                net.eval()   # モデルを検証モードに\n",
    "\n",
    "            epoch_loss = 0.0  # epochの損失和\n",
    "            epoch_corrects = 0  # epochの正解数\n",
    "\n",
    "            # 未学習時の検証性能を確かめるため、epoch=0の訓練は省略\n",
    "            if (epoch == 0) and (phase == 'train'):\n",
    "                continue\n",
    "\n",
    "            # データローダーからミニバッチを取り出すループ\n",
    "            for i , (inputs, labels) in tqdm(enumerate(dataloaders_dict[phase])):\n",
    "                \n",
    "                # GPUを使用する場合は明示的に指定\n",
    "                inputs = inputs.to(device)\n",
    "                labels = labels.to(device)\n",
    "\n",
    "                # optimizerを初期化\n",
    "                optimizer.zero_grad()\n",
    "\n",
    "                # 順伝搬（forward）計算\n",
    "                with torch.set_grad_enabled(phase == 'train'):  # 訓練モードのみ勾配を算出\n",
    "                    outputs = net(inputs)              # 順伝播\n",
    "                    loss = criterion(outputs, labels)  # 損失を計算\n",
    "                    _, preds = torch.max(outputs, 1)   # ラベルを予測\n",
    "                    \n",
    "  \n",
    "                    # 訓練時はバックプロパゲーション\n",
    "                    if phase == 'train':\n",
    "                        loss.backward()\n",
    "                        optimizer.step()\n",
    "\n",
    "                    # イタレーション結果の計算\n",
    "                    # lossの合計を更新\n",
    "                    epoch_loss += loss.item() * inputs.size(0)  \n",
    "                    # 正解数の合計を更新\n",
    "                    epoch_corrects += torch.sum(preds == labels.data)\n",
    "\n",
    "            # epochごとのlossと正解率を表示\n",
    "            epoch_loss = epoch_loss / len(dataloaders_dict[phase].dataset)\n",
    "            epoch_acc = epoch_corrects.double() / len(dataloaders_dict[phase].dataset)\n",
    "            \n",
    "            print('{} Loss: {:.4f} Acc: {:.4f}'.format(phase, epoch_loss, epoch_acc))\n"
   ]
  },
  {
   "cell_type": "code",
   "execution_count": 12,
   "metadata": {},
   "outputs": [
    {
     "name": "stderr",
     "output_type": "stream",
     "text": [
      "6it [00:00, 59.01it/s]"
     ]
    },
    {
     "name": "stdout",
     "output_type": "stream",
     "text": [
      "Epoch 1/3\n",
      "-------------\n"
     ]
    },
    {
     "name": "stderr",
     "output_type": "stream",
     "text": [
      "313it [00:04, 68.84it/s]\n",
      "4it [00:00, 34.06it/s]"
     ]
    },
    {
     "name": "stdout",
     "output_type": "stream",
     "text": [
      "val Loss: 2.3301 Acc: 0.0954\n",
      "Epoch 2/3\n",
      "-------------\n"
     ]
    },
    {
     "name": "stderr",
     "output_type": "stream",
     "text": [
      "625it [00:12, 50.79it/s]\n",
      "8it [00:00, 71.97it/s]"
     ]
    },
    {
     "name": "stdout",
     "output_type": "stream",
     "text": [
      "train Loss: 0.9101 Acc: 0.6890\n"
     ]
    },
    {
     "name": "stderr",
     "output_type": "stream",
     "text": [
      "313it [00:04, 72.83it/s]\n",
      "6it [00:00, 53.88it/s]"
     ]
    },
    {
     "name": "stdout",
     "output_type": "stream",
     "text": [
      "val Loss: 0.5833 Acc: 0.8081\n",
      "Epoch 3/3\n",
      "-------------\n"
     ]
    },
    {
     "name": "stderr",
     "output_type": "stream",
     "text": [
      "625it [00:12, 50.88it/s]\n",
      "7it [00:00, 67.33it/s]"
     ]
    },
    {
     "name": "stdout",
     "output_type": "stream",
     "text": [
      "train Loss: 0.4456 Acc: 0.8674\n"
     ]
    },
    {
     "name": "stderr",
     "output_type": "stream",
     "text": [
      "313it [00:04, 69.69it/s]"
     ]
    },
    {
     "name": "stdout",
     "output_type": "stream",
     "text": [
      "val Loss: 0.4203 Acc: 0.8796\n"
     ]
    },
    {
     "name": "stderr",
     "output_type": "stream",
     "text": [
      "\n"
     ]
    }
   ],
   "source": [
    "# 学習・検証を実行する\n",
    "num_epochs = 3\n",
    "train_model(net, dataloaders_dict, criterion, optimizer, device, num_epochs=num_epochs)"
   ]
  },
  {
   "cell_type": "markdown",
   "metadata": {},
   "source": [
    "# テストデータに対する予測"
   ]
  },
  {
   "cell_type": "code",
   "execution_count": 13,
   "metadata": {},
   "outputs": [
    {
     "data": {
      "image/png": "[encoded data removed]",
      "text/plain": [
       "<Figure size 432x288 with 1 Axes>"
      ]
     },
     "metadata": {
      "needs_background": "light"
     },
     "output_type": "display_data"
    }
   ],
   "source": [
    "batch_iterator = iter(dataloaders_dict[\"test\"])  # イテレータに変換\n",
    "imges, labels = next(batch_iterator)  # 1番目の要素を取り出す\n",
    "\n",
    "net.eval() #推論モード\n",
    "with torch.set_grad_enabled(False):   # 推論モードでは勾配を算出しない\n",
    "    outputs = net(imges)               # 順伝播\n",
    "    _, preds = torch.max(outputs, 1)  # ラベルを予測\n",
    "    \n",
    "#テストデータの予測結果を描画\n",
    "plt.imshow(imges[0].numpy().reshape(28,28), cmap='gray')\n",
    "plt.title(\"Label: Target={}, Predict={}\".format(labels[0], preds[0].numpy()))\n",
    "plt.show()"
   ]
  },
  {
   "cell_type": "markdown",
   "metadata": {},
   "source": [
    "以上"
   ]
  }
 ],
 "metadata": {
  "kernelspec": {
   "display_name": "Python 3",
   "language": "python",
   "name": "python3"
  },
  "language_info": {
   "codemirror_mode": {
    "name": "ipython",
    "version": 3
   },
   "file_extension": ".py",
   "mimetype": "text/x-python",
   "name": "python",
   "nbconvert_exporter": "python",
   "pygments_lexer": "ipython3",
   "version": "3.7.4"
  }
 },
 "nbformat": 4,
 "nbformat_minor": 4
}
